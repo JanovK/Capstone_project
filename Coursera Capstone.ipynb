{
    "nbformat_minor": 1, 
    "cells": [
        {
            "source": "# The impact of location in restaurant ratings on social media", 
            "cell_type": "markdown", 
            "metadata": {}
        }, 
        {
            "source": "## 1. Introduction", 
            "cell_type": "markdown", 
            "metadata": {}
        }, 
        {
            "source": "##### Description of the problem and a discussion of the background", 
            "cell_type": "markdown", 
            "metadata": {}
        }, 
        {
            "source": "When a user rates a restaurant on Foursquare he surely takes into account the quality of the food, of the service, the setting but __does the location of a restaurant impact its rating ?__\n\nThe fact that a restaurant is well located, that is to say easy to access, should increase the number of comments but not necessarily impact the ratings significantly.\n\nIn this study, we will see if a correlation exists between the location of a restaurant and its global score on Foursquare. If this correlation exists, this study will help entrepreneurs who want to open a restaurant in NYC, providing guidance on which area to choose to settle their restaurant. ", 
            "cell_type": "markdown", 
            "metadata": {}
        }, 
        {
            "source": "## 2. Data", 
            "cell_type": "markdown", 
            "metadata": {}
        }, 
        {
            "source": "##### Description of the data and how it will be used to solve the problem", 
            "cell_type": "markdown", 
            "metadata": {}
        }, 
        {
            "source": "To answer this question, we will analyze the Foursquare ratings of NYC restaurants. For that, we will use the Foursquare API to get the geographical coordinates and ratings of all the restaurants in NYC. Then we will display the results on a map to see if some areas have significant higher score.", 
            "cell_type": "markdown", 
            "metadata": {}
        }, 
        {
            "execution_count": null, 
            "cell_type": "code", 
            "metadata": {}, 
            "outputs": [], 
            "source": ""
        }
    ], 
    "metadata": {
        "kernelspec": {
            "display_name": "Python 3.5", 
            "name": "python3", 
            "language": "python"
        }, 
        "language_info": {
            "mimetype": "text/x-python", 
            "nbconvert_exporter": "python", 
            "version": "3.5.5", 
            "name": "python", 
            "file_extension": ".py", 
            "pygments_lexer": "ipython3", 
            "codemirror_mode": {
                "version": 3, 
                "name": "ipython"
            }
        }
    }, 
    "nbformat": 4
}