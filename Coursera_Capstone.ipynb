{
    "nbformat_minor": 1, 
    "cells": [
        {
            "source": "# The impact of location in restaurant ratings on social media", 
            "cell_type": "markdown", 
            "metadata": {}
        }, 
        {
            "source": "## 1. Introduction", 
            "cell_type": "markdown", 
            "metadata": {}
        }, 
        {
            "source": "##### Description of the problem and a discussion of the background", 
            "cell_type": "markdown", 
            "metadata": {}
        }, 
        {
            "source": "When a user rates a restaurant on Foursquare he surely takes into account the quality of the food, of the service, the setting but __does the location of a restaurant impact its rating ?__\n\nThe fact that a restaurant is well located, that is to say easy to access, should increase the number of comments but not necessarily impact the ratings significantly.\n\nIn this study, we will see if a correlation exists between the location of a restaurant and its global score on Foursquare. \n\n__Target audience :__\nIf this correlation exists, this study will show the most popular areas in NYC to open a restaurant. This map will help entrepreneurs who want to open a restaurant in NYC, providing guidance on which area to choose to settle their restaurant.", 
            "cell_type": "markdown", 
            "metadata": {}
        }, 
        {
            "source": "## 2. Data", 
            "cell_type": "markdown", 
            "metadata": {}
        }, 
        {
            "source": "##### Description of the data and how it will be used to solve the problem", 
            "cell_type": "markdown", 
            "metadata": {}
        }, 
        {
            "source": "To answer this question, we will analyze the Foursquare ratings of NYC restaurants. For that, we will use the Foursquare API to get the geographical coordinates and ratings of all the restaurants in NYC. Then we will display the results on a map to see if some areas have significant higher score.", 
            "cell_type": "markdown", 
            "metadata": {}
        }, 
        {
            "execution_count": 54, 
            "cell_type": "code", 
            "metadata": {}, 
            "outputs": [], 
            "source": "# The code was removed by Watson Studio for sharing."
        }, 
        {
            "execution_count": 55, 
            "cell_type": "code", 
            "metadata": {}, 
            "outputs": [], 
            "source": "import pandas as pd\nimport requests\n\n# Create the API request URL\nurl = 'https://api.foursquare.com/v2/venues/search?categoryId={}&client_id={}&client_secret={}&v={}&near={}&limit={}'.format(\n    \"4d4b7105d754a06374d81259\", # We only get venues from the food category\n    CLIENT_ID,\n    CLIENT_SECRET,\n    VERSION,\n    \"New+York\", # We get the venues from NYC\n    LIMIT)\n\n# Make the GET request\nresults = requests.get(url).json()['response']['venues']\n#results = requests.get(url).json()['response']['groups'][0]['items']\n\n# Only return relevant information for each nearby venue\nvenues_list=[]\nvenues_list.append([(\n    v['id'],\n    v['name'], \n    v['location']['lat'], \n    v['location']['lng'],  \n    v['categories'][0]['name']) for v in results])\n\nNYC_venues = pd.DataFrame([item for venue_list in venues_list for item in venue_list])\nNYC_venues.columns = ['id',\n                      'name',\n                      'latitude',\n                      'longitude',\n                      'category']"
        }, 
        {
            "execution_count": 56, 
            "cell_type": "code", 
            "metadata": {}, 
            "outputs": [
                {
                    "execution_count": 56, 
                    "metadata": {}, 
                    "data": {
                        "text/html": "<div>\n<style scoped>\n    .dataframe tbody tr th:only-of-type {\n        vertical-align: middle;\n    }\n\n    .dataframe tbody tr th {\n        vertical-align: top;\n    }\n\n    .dataframe thead th {\n        text-align: right;\n    }\n</style>\n<table border=\"1\" class=\"dataframe\">\n  <thead>\n    <tr style=\"text-align: right;\">\n      <th></th>\n      <th>id</th>\n      <th>name</th>\n      <th>latitude</th>\n      <th>longitude</th>\n      <th>category</th>\n    </tr>\n  </thead>\n  <tbody>\n    <tr>\n      <th>0</th>\n      <td>4c5ef77bfff99c74eda954d3</td>\n      <td>Eataly</td>\n      <td>40.741987</td>\n      <td>-73.989913</td>\n      <td>Gourmet Shop</td>\n    </tr>\n    <tr>\n      <th>1</th>\n      <td>5aebab20336273002c158f04</td>\n      <td>Serra On The Roof</td>\n      <td>40.742055</td>\n      <td>-73.989720</td>\n      <td>Italian Restaurant</td>\n    </tr>\n    <tr>\n      <th>2</th>\n      <td>40e74880f964a520150a1fe3</td>\n      <td>Shake Shack</td>\n      <td>40.741487</td>\n      <td>-73.988181</td>\n      <td>Burger Joint</td>\n    </tr>\n    <tr>\n      <th>3</th>\n      <td>59c295349b04732c1d51aa52</td>\n      <td>Kimbap Lab</td>\n      <td>40.716160</td>\n      <td>-73.959530</td>\n      <td>Korean Restaurant</td>\n    </tr>\n    <tr>\n      <th>4</th>\n      <td>5c71d51689b06a002c6de87d</td>\n      <td>Au Cheval</td>\n      <td>40.718075</td>\n      <td>-74.001974</td>\n      <td>American Restaurant</td>\n    </tr>\n  </tbody>\n</table>\n</div>", 
                        "text/plain": "                         id               name   latitude  longitude  \\\n0  4c5ef77bfff99c74eda954d3             Eataly  40.741987 -73.989913   \n1  5aebab20336273002c158f04  Serra On The Roof  40.742055 -73.989720   \n2  40e74880f964a520150a1fe3        Shake Shack  40.741487 -73.988181   \n3  59c295349b04732c1d51aa52         Kimbap Lab  40.716160 -73.959530   \n4  5c71d51689b06a002c6de87d          Au Cheval  40.718075 -74.001974   \n\n              category  \n0         Gourmet Shop  \n1   Italian Restaurant  \n2         Burger Joint  \n3    Korean Restaurant  \n4  American Restaurant  "
                    }, 
                    "output_type": "execute_result"
                }
            ], 
            "source": "# Get the list of all restaurants in NYC with id, name, coordinates and category\nNYC_venues.head()"
        }, 
        {
            "execution_count": 65, 
            "cell_type": "code", 
            "metadata": {}, 
            "outputs": [
                {
                    "execution_count": 65, 
                    "metadata": {}, 
                    "data": {
                        "text/html": "<div>\n<style scoped>\n    .dataframe tbody tr th:only-of-type {\n        vertical-align: middle;\n    }\n\n    .dataframe tbody tr th {\n        vertical-align: top;\n    }\n\n    .dataframe thead th {\n        text-align: right;\n    }\n</style>\n<table border=\"1\" class=\"dataframe\">\n  <thead>\n    <tr style=\"text-align: right;\">\n      <th></th>\n      <th>id</th>\n      <th>name</th>\n      <th>latitude</th>\n      <th>longitude</th>\n      <th>category</th>\n      <th>ratings</th>\n    </tr>\n  </thead>\n  <tbody>\n    <tr>\n      <th>0</th>\n      <td>4c5ef77bfff99c74eda954d3</td>\n      <td>Eataly</td>\n      <td>40.741987</td>\n      <td>-73.989913</td>\n      <td>Gourmet Shop</td>\n      <td>9.3</td>\n    </tr>\n    <tr>\n      <th>1</th>\n      <td>5aebab20336273002c158f04</td>\n      <td>Serra On The Roof</td>\n      <td>40.742055</td>\n      <td>-73.989720</td>\n      <td>Italian Restaurant</td>\n      <td>7.2</td>\n    </tr>\n    <tr>\n      <th>2</th>\n      <td>40e74880f964a520150a1fe3</td>\n      <td>Shake Shack</td>\n      <td>40.741487</td>\n      <td>-73.988181</td>\n      <td>Burger Joint</td>\n      <td>9.2</td>\n    </tr>\n    <tr>\n      <th>3</th>\n      <td>59c295349b04732c1d51aa52</td>\n      <td>Kimbap Lab</td>\n      <td>40.716160</td>\n      <td>-73.959530</td>\n      <td>Korean Restaurant</td>\n      <td>0.0</td>\n    </tr>\n    <tr>\n      <th>4</th>\n      <td>5c71d51689b06a002c6de87d</td>\n      <td>Au Cheval</td>\n      <td>40.718075</td>\n      <td>-74.001974</td>\n      <td>American Restaurant</td>\n      <td>8.6</td>\n    </tr>\n  </tbody>\n</table>\n</div>", 
                        "text/plain": "                         id               name   latitude  longitude  \\\n0  4c5ef77bfff99c74eda954d3             Eataly  40.741987 -73.989913   \n1  5aebab20336273002c158f04  Serra On The Roof  40.742055 -73.989720   \n2  40e74880f964a520150a1fe3        Shake Shack  40.741487 -73.988181   \n3  59c295349b04732c1d51aa52         Kimbap Lab  40.716160 -73.959530   \n4  5c71d51689b06a002c6de87d          Au Cheval  40.718075 -74.001974   \n\n              category  ratings  \n0         Gourmet Shop      9.3  \n1   Italian Restaurant      7.2  \n2         Burger Joint      9.2  \n3    Korean Restaurant      0.0  \n4  American Restaurant      8.6  "
                    }, 
                    "output_type": "execute_result"
                }
            ], 
            "source": "# Iterate over rows with iterrows() to add the associated global score\nratings = []\nfor index, row in NYC_venues.iterrows():\n    venue_id = row['id']\n\n    # Prepare request\n    url = 'https://api.foursquare.com/v2/venues/{}?client_id={}&client_secret={}&v={}'.format(\n        venue_id,\n        CLIENT_ID,\n        CLIENT_SECRET,\n        VERSION)\n    \n    # Make the GET request\n    results = requests.get(url).json()\n    # If there is no rating for this venue we set the value at 0\n    if 'rating' in results['response']['venue']:\n        rating = results['response']['venue']['rating']\n    else:\n        rating = 0\n    \n    # Add the rating in the ratings dataframe\n    ratings.append(rating)\n\n# Add the ratings datagrame as a new column int the venues dataframe\nNYC_venues['ratings'] = ratings\nNYC_venues.head()"
        }, 
        {
            "execution_count": null, 
            "cell_type": "code", 
            "metadata": {}, 
            "outputs": [], 
            "source": ""
        }
    ], 
    "metadata": {
        "kernelspec": {
            "display_name": "Python 3.5", 
            "name": "python3", 
            "language": "python"
        }, 
        "language_info": {
            "mimetype": "text/x-python", 
            "nbconvert_exporter": "python", 
            "version": "3.5.5", 
            "name": "python", 
            "file_extension": ".py", 
            "pygments_lexer": "ipython3", 
            "codemirror_mode": {
                "version": 3, 
                "name": "ipython"
            }
        }
    }, 
    "nbformat": 4
}